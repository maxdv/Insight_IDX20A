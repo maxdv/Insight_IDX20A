{
 "cells": [
  {
   "cell_type": "code",
   "execution_count": 5,
   "metadata": {},
   "outputs": [],
   "source": [
    "''' This script will intake a video file, and split it into a series of individual frames,\n",
    "    save it in a local directory.'''\n",
    "\n",
    "import cv2\n",
    "import numpy as np\n",
    "import os\n",
    "import youtube_dl\n",
    "\n",
    "startframe = 100000\n",
    "endframe = startframe + 100\n",
    "video_file_path = '../twostepper-master/classifier/video_file/'\n",
    "cap = cv2.VideoCapture(video_file_path)\n",
    "\n",
    "# create a directory for the images\n",
    "try:\n",
    "    if not os.path.exists('frames_tmp'):\n",
    "        os.makedirs('frames_tmp')\n",
    "except OSError:\n",
    "    print ('Error: Creating directory of data')\n",
    "\n",
    "currentFrame = 0\n",
    "ii = 0\n",
    "for ii in range(startframe, endframe):\n",
    "    # Capture frame-by-frame\n",
    "    ret, frame = cap.read()\n",
    "\n",
    "    # Saves image of the current frame in jpg file\n",
    "    name = './frames_tmp/frame' + str(ii) + '.jpg'\n",
    "    #print ('Creating...' + name)\n",
    "    cv2.imwrite(name, frame)\n",
    "\n",
    "    # To stop duplicate images\n",
    "    currentFrame += 1\n",
    "    ii += 10\n",
    "# When everything done, release the capture\n",
    "cap.release()\n",
    "cv2.destroyAllWindows()"
   ]
  },
  {
   "cell_type": "code",
   "execution_count": null,
   "metadata": {},
   "outputs": [],
   "source": []
  }
 ],
 "metadata": {
  "kernelspec": {
   "display_name": "Python 3",
   "language": "python",
   "name": "python3"
  },
  "language_info": {
   "codemirror_mode": {
    "name": "ipython",
    "version": 3
   },
   "file_extension": ".py",
   "mimetype": "text/x-python",
   "name": "python",
   "nbconvert_exporter": "python",
   "pygments_lexer": "ipython3",
   "version": "3.7.6"
  }
 },
 "nbformat": 4,
 "nbformat_minor": 2
}
