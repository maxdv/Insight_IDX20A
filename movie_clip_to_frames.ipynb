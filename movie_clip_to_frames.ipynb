{
 "cells": [
  {
   "cell_type": "code",
   "execution_count": 1,
   "metadata": {},
   "outputs": [],
   "source": [
    "import cv2\n",
    "import numpy as np\n",
    "import pandas as pd\n",
    "import os\n",
    "import glob"
   ]
  },
  {
   "cell_type": "code",
   "execution_count": 2,
   "metadata": {},
   "outputs": [],
   "source": [
    "def listdir_nohidden(path):\n",
    "    return glob.glob(os.path.join(path, '*'))"
   ]
  },
  {
   "cell_type": "code",
   "execution_count": 3,
   "metadata": {},
   "outputs": [],
   "source": [
    "try:\n",
    "    if not os.path.exists('../TwoStepper/input_video/input_video_clip/'):\n",
    "        os.makedirs('../TwoStepper/input_video/input_video_clip/')   \n",
    "    if not os.path.exists('../TwoStepper/input_video/input_video_frames/'):\n",
    "        os.makedirs('../TwoStepper/input_video/input_video_frames/')     \n",
    "except OSError:\n",
    "    print ('Error: Creating directory of data')\n"
   ]
  },
  {
   "cell_type": "code",
   "execution_count": 4,
   "metadata": {},
   "outputs": [],
   "source": [
    "#################### Setting up the files ################\n",
    "frameFile_path = '../TwoStepper/input_video/input_video_frames'\n",
    "videoFile_path = '../TwoStepper/input_video/input_video_clip'\n",
    "videoFile = str(os.listdir(videoFile_path)[0])\n",
    "vidcap = cv2.VideoCapture(videoFile_path + '/' + videoFile)\n",
    "success,image = vidcap.read()\n",
    "\n",
    "\n",
    "#################### Setting up parameters ################\n",
    "\n",
    "#OpenCV is notorious for not being able to good to \n",
    "# predict how many frames are in a video. The point here is just to \n",
    "# populate the \"desired_frames\" list for all the individual frames\n",
    "# you'd like to capture. \n",
    "\n",
    "fps = vidcap.get(cv2.CAP_PROP_FPS)\n",
    "est_video_length_secs = 10         # Round up if not sure.\n",
    "est_tot_frames = est_video_length_secs * fps  # Sets an upper bound # of frames in video clip\n",
    "\n",
    "n = 10                           # Desired interval of frames to include\n",
    "desired_frames = n * np.arange(est_tot_frames) \n",
    "\n",
    "\n",
    "#################### Initiate Process ################\n",
    "\n",
    "for i in desired_frames:\n",
    "    vidcap.set(1,i-1)                      \n",
    "    success,image = vidcap.read(1)         # image is an array of array of [R,G,B] values\n",
    "    frameId = vidcap.get(1)                # The 0th frame is often a throw-away\n",
    "    cv2.imwrite('/Users/max/Documents/Insight/TwoStepper/input_video/input_video_frames/frame%d.jpg' % frameId, image)\n",
    "\n",
    "vidcap.release()\n",
    "cv2.destroyAllWindows()"
   ]
  }
 ],
 "metadata": {
  "kernelspec": {
   "display_name": "Python 3",
   "language": "python",
   "name": "python3"
  },
  "language_info": {
   "codemirror_mode": {
    "name": "ipython",
    "version": 3
   },
   "file_extension": ".py",
   "mimetype": "text/x-python",
   "name": "python",
   "nbconvert_exporter": "python",
   "pygments_lexer": "ipython3",
   "version": "3.7.6"
  }
 },
 "nbformat": 4,
 "nbformat_minor": 2
}
