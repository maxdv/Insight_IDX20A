{
 "cells": [
  {
   "cell_type": "code",
   "execution_count": 1,
   "metadata": {},
   "outputs": [],
   "source": [
    "import cv2\n",
    "import numpy as np\n",
    "import pandas as pd\n",
    "import os\n",
    "import glob\n",
    "from pathlib import Path\n"
   ]
  },
  {
   "cell_type": "code",
   "execution_count": 2,
   "metadata": {},
   "outputs": [],
   "source": [
    "# def listdir_nohidden(path):\n",
    "#     return glob.glob(os.path.join(path, '*'))\n",
    "# #     return glob.glob(path+'*')\n",
    "#      ###\n",
    "def listdir_nohidden(directory):\n",
    "    filelist = os.listdir(directory)\n",
    "    return [x for x in filelist\n",
    "            if not (x.startswith('.'))]"
   ]
  },
  {
   "cell_type": "code",
   "execution_count": 3,
   "metadata": {},
   "outputs": [
    {
     "data": {
      "text/plain": [
       "'/Users/max/Documents/Insight/TwoStepper/input_video/input_video_clip'"
      ]
     },
     "execution_count": 3,
     "metadata": {},
     "output_type": "execute_result"
    }
   ],
   "source": [
    "parent_directory = os.getcwd()\n",
    "frameFile_path = parent_directory + '/input_video/input_video_frames'\n",
    "videoFile_path = parent_directory + '/input_video/input_video_clip'\n",
    "videoFile_path"
   ]
  },
  {
   "cell_type": "code",
   "execution_count": 4,
   "metadata": {},
   "outputs": [],
   "source": [
    "try:\n",
    "    if not os.path.exists(frameFile_path):\n",
    "        os.makedirs(frameFile_path)   \n",
    "    if not os.path.exists(videoFile_path):\n",
    "        os.makedirs(videoFile_path)     \n",
    "except OSError:\n",
    "    print ('Error: Creating directory of data')\n"
   ]
  },
  {
   "cell_type": "code",
   "execution_count": 5,
   "metadata": {},
   "outputs": [],
   "source": [
    "#################### Setting up the files ################\n",
    "\n",
    "\n",
    "videoFile = str(listdir_nohidden(videoFile_path)[0])\n",
    "\n",
    "\n",
    "# vidcap = cv2.VideoCapture(videoFile_path + '/' + videoFile)\n",
    "vidcap = cv2.VideoCapture(videoFile_path + '/' + videoFile)\n",
    "\n",
    "success,image = vidcap.read()\n",
    "\n",
    "\n",
    "#################### Setting up parameters ################\n",
    "\n",
    "#OpenCV is notorious for not being able to good to \n",
    "# predict how many frames are in a video. The point here is just to \n",
    "# populate the \"desired_frames\" list for all the individual frames\n",
    "# you'd like to capture. \n",
    "\n",
    "# fps = vidcap.get(cv2.CAP_PROP_FPS)\n",
    "# est_video_length_secs = vidcap.get(cv2.CAP_PROP_FRAME_COUNT)\n",
    "est_tot_frames = vidcap.get(cv2.CAP_PROP_FRAME_COUNT)  # Sets an upper bound # of frames in video clip\n",
    "desired_frames = np.round(np.arange(0,est_tot_frames,est_tot_frames/30)) #split the video into 30 frames\n",
    "\n",
    "\n",
    "#################### Initiate Process ################\n",
    "\n",
    "for i in desired_frames:\n",
    "    vidcap.set(1,i-1)                      \n",
    "    success,image = vidcap.read(1)         # image is an array of array of [R,G,B] values\n",
    "    frameId = vidcap.get(1)                # The 0th frame is often a throw-away\n",
    "    cv2.imwrite(frameFile_path + '/frame%d.jpg' % frameId, image)\n",
    "vidcap.release()\n",
    "cv2.destroyAllWindows()"
   ]
  },
  {
   "cell_type": "code",
   "execution_count": null,
   "metadata": {},
   "outputs": [],
   "source": []
  }
 ],
 "metadata": {
  "kernelspec": {
   "display_name": "Python 3",
   "language": "python",
   "name": "python3"
  },
  "language_info": {
   "codemirror_mode": {
    "name": "ipython",
    "version": 3
   },
   "file_extension": ".py",
   "mimetype": "text/x-python",
   "name": "python",
   "nbconvert_exporter": "python",
   "pygments_lexer": "ipython3",
   "version": "3.7.6"
  }
 },
 "nbformat": 4,
 "nbformat_minor": 2
}
