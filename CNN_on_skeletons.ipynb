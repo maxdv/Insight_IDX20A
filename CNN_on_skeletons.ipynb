{
  "nbformat": 4,
  "nbformat_minor": 0,
  "metadata": {
    "kernelspec": {
      "name": "python3",
      "display_name": "Python 3"
    },
    "language_info": {
      "codemirror_mode": {
        "name": "ipython",
        "version": 3
      },
      "file_extension": ".py",
      "mimetype": "text/x-python",
      "name": "python",
      "nbconvert_exporter": "python",
      "pygments_lexer": "ipython3",
      "version": "3.7.6"
    },
    "colab": {
      "name": "CNN_on_skeletons.ipynb",
      "provenance": [],
      "collapsed_sections": []
    },
    "accelerator": "GPU"
  },
  "cells": [
    {
      "cell_type": "code",
      "metadata": {
        "id": "P09fM2BuEwH3",
        "colab_type": "code",
        "colab": {
          "base_uri": "https://localhost:8080/",
          "height": 34
        },
        "outputId": "101713ff-3d11-4284-ded5-632de089e6c2"
      },
      "source": [
        "import cv2\n",
        "import numpy as np\n",
        "import os\n",
        "from random import shuffle\n",
        "from tqdm import tqdm\n",
        "import tensorflow as tf\n",
        "import matplotlib.pyplot as plt\n",
        "%matplotlib inline\n",
        "from keras.models import Sequential\n",
        "from keras.layers import  *\n",
        "from keras.optimizers import *\n",
        "\n",
        "from google.colab import drive\n",
        "drive.mount('/content/drive')"
      ],
      "execution_count": 17,
      "outputs": [
        {
          "output_type": "stream",
          "text": [
            "Drive already mounted at /content/drive; to attempt to forcibly remount, call drive.mount(\"/content/drive\", force_remount=True).\n"
          ],
          "name": "stdout"
        }
      ]
    },
    {
      "cell_type": "code",
      "metadata": {
        "id": "rome_mjKEwIB",
        "colab_type": "code",
        "colab": {
          "base_uri": "https://localhost:8080/",
          "height": 51
        },
        "outputId": "93600ce9-7196-42ae-f9fc-e42437e39842"
      },
      "source": [
        "parent_directory = os.getcwd() + '/drive/My Drive/Colab Notebooks/TwoStepper'\n",
        "classifier_directory = parent_directory + '/classifier'\n",
        "pathway_to_clips = classifier_directory + '/movie_clips'\n",
        "pathway_to_frames = classifier_directory + '/frames'\n",
        "pathway_to_skeletons = classifier_directory + '/skeletons'\n",
        "\n",
        "\n",
        "\n",
        "\n",
        "train_data = classifier_directory + '/train'\n",
        "test_data = classifier_directory + '/test'\n",
        "\n",
        "def listdir_nohidden(directory):\n",
        "    filelist = os.listdir(directory)\n",
        "    return [x for x in filelist\n",
        "            if not (x.startswith('.'))]\n",
        "\n",
        "def move_label(img): #ohl stands for one hot label\n",
        "    label = img.split('.')[0]\n",
        "    if label == 'turn':\n",
        "        ohl = np.array([1,0])\n",
        "    elif label == 'cuddle':\n",
        "        ohl = np.array([0,1])\n",
        "    # elif label == 'shadow':\n",
        "    #     ohl = np.array([0,0,1])\n",
        "    return ohl\n",
        "\n",
        "def train_data_with_label():\n",
        "    train_images = []\n",
        "    for ii in tqdm(listdir_nohidden(train_data)):\n",
        "        path = os.path.join(train_data, ii)\n",
        "        img = np.genfromtxt(path, delimiter=',') #cv2.imread(path)\n",
        "        train_images.append([np.array(img), move_label(ii)])\n",
        "    shuffle(train_images)\n",
        "    return train_images\n",
        "\n",
        "def test_data_with_label():\n",
        "    test_images = []\n",
        "    for ii in tqdm(listdir_nohidden(test_data)):\n",
        "        path = os.path.join(test_data, ii)\n",
        "        img = np.genfromtxt(path, delimiter=',') \n",
        "        test_images.append([np.array(img), move_label(ii)])\n",
        "    shuffle(test_images)\n",
        "    return test_images\n",
        "                         \n",
        "                         \n",
        "                         \n",
        "training_images = train_data_with_label()\n",
        "testing_images = test_data_with_label()\n",
        "\n",
        "\n",
        "tr_img_data = np.array([ii[0] for ii in training_images]).reshape(-1,36,60,1)\n",
        "tr_lbl_data = np.array([ii[1] for ii in training_images])\n",
        "\n",
        "tst_img_data = np.array([ii[0] for ii in testing_images]).reshape(-1,36,60,1)\n",
        "tst_lbl_data = np.array([ii[1] for ii in testing_images])\n",
        "                         \n",
        "                         \n",
        "                         "
      ],
      "execution_count": 18,
      "outputs": [
        {
          "output_type": "stream",
          "text": [
            "100%|██████████| 102/102 [00:00<00:00, 306.97it/s]\n",
            "100%|██████████| 14/14 [00:00<00:00, 312.71it/s]\n"
          ],
          "name": "stderr"
        }
      ]
    },
    {
      "cell_type": "code",
      "metadata": {
        "id": "E8-N5k8WEwIE",
        "colab_type": "code",
        "colab": {
          "base_uri": "https://localhost:8080/",
          "height": 1000
        },
        "outputId": "0a5f95cd-a593-412c-a438-a4ed468c3fc0"
      },
      "source": [
        "model = Sequential()\n",
        "\n",
        "model.add(InputLayer(input_shape = [36,60,1]))\n",
        "\n",
        "model.add(Conv2D(filters=60, kernel_size=[36,4],strides=2,padding='same', activation='relu'))\n",
        "model.add(MaxPool2D(pool_size=4, padding='same'))\n",
        "\n",
        "model.add(Conv2D(filters=60, kernel_size=[36,4],strides=2,padding='same', activation='relu'))\n",
        "model.add(MaxPool2D(pool_size=4, padding='same'))\n",
        "\n",
        "model.add(Conv2D(filters=60, kernel_size=[36,4],strides=2,padding='same', activation='relu'))\n",
        "model.add(MaxPool2D(pool_size=4, padding='same'))\n",
        "\n",
        "model.add(Dropout(0.25))\n",
        "model.add(Flatten())\n",
        "model.add(Dense(512,activation='relu'))\n",
        "model.add(Dropout(rate=0.5))\n",
        "model.add(Dense(2,activation='softmax'))\n",
        "optimizer = Adam(lr=1e-3)\n",
        "\n",
        "model.compile(optimizer=optimizer, loss='categorical_crossentropy',metrics=['accuracy'])\n",
        "model.fit(x=tr_img_data,y=tr_lbl_data,epochs=50,batch_size=100)\n",
        "model.summary()"
      ],
      "execution_count": 31,
      "outputs": [
        {
          "output_type": "stream",
          "text": [
            "Epoch 1/50\n",
            "102/102 [==============================] - 1s 7ms/step - loss: 0.6892 - acc: 0.9314\n",
            "Epoch 2/50\n",
            "102/102 [==============================] - 0s 253us/step - loss: 0.5905 - acc: 1.0000\n",
            "Epoch 3/50\n",
            "102/102 [==============================] - 0s 243us/step - loss: 0.3480 - acc: 1.0000\n",
            "Epoch 4/50\n",
            "102/102 [==============================] - 0s 251us/step - loss: 0.0729 - acc: 1.0000\n",
            "Epoch 5/50\n",
            "102/102 [==============================] - 0s 233us/step - loss: 0.0075 - acc: 1.0000\n",
            "Epoch 6/50\n",
            "102/102 [==============================] - 0s 188us/step - loss: 5.9000e-04 - acc: 1.0000\n",
            "Epoch 7/50\n",
            "102/102 [==============================] - 0s 210us/step - loss: 3.1122e-04 - acc: 1.0000\n",
            "Epoch 8/50\n",
            "102/102 [==============================] - 0s 194us/step - loss: 5.8152e-06 - acc: 1.0000\n",
            "Epoch 9/50\n",
            "102/102 [==============================] - 0s 198us/step - loss: 1.5100e-06 - acc: 1.0000\n",
            "Epoch 10/50\n",
            "102/102 [==============================] - 0s 190us/step - loss: 7.0709e-07 - acc: 1.0000\n",
            "Epoch 11/50\n",
            "102/102 [==============================] - 0s 188us/step - loss: 2.1738e-07 - acc: 1.0000\n",
            "Epoch 12/50\n",
            "102/102 [==============================] - 0s 255us/step - loss: 1.3499e-07 - acc: 1.0000\n",
            "Epoch 13/50\n",
            "102/102 [==============================] - 0s 203us/step - loss: 1.1921e-07 - acc: 1.0000\n",
            "Epoch 14/50\n",
            "102/102 [==============================] - 0s 202us/step - loss: 1.1921e-07 - acc: 1.0000\n",
            "Epoch 15/50\n",
            "102/102 [==============================] - 0s 232us/step - loss: 1.2388e-07 - acc: 1.0000\n",
            "Epoch 16/50\n",
            "102/102 [==============================] - 0s 275us/step - loss: 2.1504e-07 - acc: 1.0000\n",
            "Epoch 17/50\n",
            "102/102 [==============================] - 0s 176us/step - loss: 1.1921e-07 - acc: 1.0000\n",
            "Epoch 18/50\n",
            "102/102 [==============================] - 0s 178us/step - loss: 1.1921e-07 - acc: 1.0000\n",
            "Epoch 19/50\n",
            "102/102 [==============================] - 0s 184us/step - loss: 1.1921e-07 - acc: 1.0000\n",
            "Epoch 20/50\n",
            "102/102 [==============================] - 0s 205us/step - loss: 1.1921e-07 - acc: 1.0000\n",
            "Epoch 21/50\n",
            "102/102 [==============================] - 0s 194us/step - loss: 1.1921e-07 - acc: 1.0000\n",
            "Epoch 22/50\n",
            "102/102 [==============================] - 0s 188us/step - loss: 1.1921e-07 - acc: 1.0000\n",
            "Epoch 23/50\n",
            "102/102 [==============================] - 0s 178us/step - loss: 1.1921e-07 - acc: 1.0000\n",
            "Epoch 24/50\n",
            "102/102 [==============================] - 0s 182us/step - loss: 1.1921e-07 - acc: 1.0000\n",
            "Epoch 25/50\n",
            "102/102 [==============================] - 0s 210us/step - loss: 1.1921e-07 - acc: 1.0000\n",
            "Epoch 26/50\n",
            "102/102 [==============================] - 0s 208us/step - loss: 1.1921e-07 - acc: 1.0000\n",
            "Epoch 27/50\n",
            "102/102 [==============================] - 0s 178us/step - loss: 1.1921e-07 - acc: 1.0000\n",
            "Epoch 28/50\n",
            "102/102 [==============================] - 0s 187us/step - loss: 1.1921e-07 - acc: 1.0000\n",
            "Epoch 29/50\n",
            "102/102 [==============================] - 0s 203us/step - loss: 1.1921e-07 - acc: 1.0000\n",
            "Epoch 30/50\n",
            "102/102 [==============================] - 0s 248us/step - loss: 1.1921e-07 - acc: 1.0000\n",
            "Epoch 31/50\n",
            "102/102 [==============================] - 0s 201us/step - loss: 1.1921e-07 - acc: 1.0000\n",
            "Epoch 32/50\n",
            "102/102 [==============================] - 0s 201us/step - loss: 1.1921e-07 - acc: 1.0000\n",
            "Epoch 33/50\n",
            "102/102 [==============================] - 0s 199us/step - loss: 1.1921e-07 - acc: 1.0000\n",
            "Epoch 34/50\n",
            "102/102 [==============================] - 0s 195us/step - loss: 1.1921e-07 - acc: 1.0000\n",
            "Epoch 35/50\n",
            "102/102 [==============================] - 0s 221us/step - loss: 1.1921e-07 - acc: 1.0000\n",
            "Epoch 36/50\n",
            "102/102 [==============================] - 0s 189us/step - loss: 1.1921e-07 - acc: 1.0000\n",
            "Epoch 37/50\n",
            "102/102 [==============================] - 0s 188us/step - loss: 1.1921e-07 - acc: 1.0000\n",
            "Epoch 38/50\n",
            "102/102 [==============================] - 0s 188us/step - loss: 1.1921e-07 - acc: 1.0000\n",
            "Epoch 39/50\n",
            "102/102 [==============================] - 0s 199us/step - loss: 1.1921e-07 - acc: 1.0000\n",
            "Epoch 40/50\n",
            "102/102 [==============================] - 0s 189us/step - loss: 1.1921e-07 - acc: 1.0000\n",
            "Epoch 41/50\n",
            "102/102 [==============================] - 0s 196us/step - loss: 1.1921e-07 - acc: 1.0000\n",
            "Epoch 42/50\n",
            "102/102 [==============================] - 0s 197us/step - loss: 1.1921e-07 - acc: 1.0000\n",
            "Epoch 43/50\n",
            "102/102 [==============================] - 0s 208us/step - loss: 1.1921e-07 - acc: 1.0000\n",
            "Epoch 44/50\n",
            "102/102 [==============================] - 0s 225us/step - loss: 1.1921e-07 - acc: 1.0000\n",
            "Epoch 45/50\n",
            "102/102 [==============================] - 0s 185us/step - loss: 1.1921e-07 - acc: 1.0000\n",
            "Epoch 46/50\n",
            "102/102 [==============================] - 0s 198us/step - loss: 1.1921e-07 - acc: 1.0000\n",
            "Epoch 47/50\n",
            "102/102 [==============================] - 0s 196us/step - loss: 1.1921e-07 - acc: 1.0000\n",
            "Epoch 48/50\n",
            "102/102 [==============================] - 0s 187us/step - loss: 1.1921e-07 - acc: 1.0000\n",
            "Epoch 49/50\n",
            "102/102 [==============================] - 0s 194us/step - loss: 1.1921e-07 - acc: 1.0000\n",
            "Epoch 50/50\n",
            "102/102 [==============================] - 0s 184us/step - loss: 1.1921e-07 - acc: 1.0000\n",
            "Model: \"sequential_4\"\n",
            "_________________________________________________________________\n",
            "Layer (type)                 Output Shape              Param #   \n",
            "=================================================================\n",
            "conv2d_10 (Conv2D)           (None, 18, 30, 60)        8700      \n",
            "_________________________________________________________________\n",
            "max_pooling2d_10 (MaxPooling (None, 5, 8, 60)          0         \n",
            "_________________________________________________________________\n",
            "conv2d_11 (Conv2D)           (None, 3, 4, 60)          518460    \n",
            "_________________________________________________________________\n",
            "max_pooling2d_11 (MaxPooling (None, 1, 1, 60)          0         \n",
            "_________________________________________________________________\n",
            "conv2d_12 (Conv2D)           (None, 1, 1, 60)          518460    \n",
            "_________________________________________________________________\n",
            "max_pooling2d_12 (MaxPooling (None, 1, 1, 60)          0         \n",
            "_________________________________________________________________\n",
            "dropout_7 (Dropout)          (None, 1, 1, 60)          0         \n",
            "_________________________________________________________________\n",
            "flatten_4 (Flatten)          (None, 60)                0         \n",
            "_________________________________________________________________\n",
            "dense_7 (Dense)              (None, 512)               31232     \n",
            "_________________________________________________________________\n",
            "dropout_8 (Dropout)          (None, 512)               0         \n",
            "_________________________________________________________________\n",
            "dense_8 (Dense)              (None, 2)                 1026      \n",
            "=================================================================\n",
            "Total params: 1,077,878\n",
            "Trainable params: 1,077,878\n",
            "Non-trainable params: 0\n",
            "_________________________________________________________________\n"
          ],
          "name": "stdout"
        }
      ]
    },
    {
      "cell_type": "code",
      "metadata": {
        "id": "BlPtQJ41Hx6O",
        "colab_type": "code",
        "colab": {
          "base_uri": "https://localhost:8080/",
          "height": 536
        },
        "outputId": "fcb2f87c-3271-46e7-b7cc-b69cb4f6c914"
      },
      "source": [
        "fig = plt.figure(figsize=(14,14))\n",
        "\n",
        "for cnt, data in enumerate(testing_images[0:14]):\n",
        "  y = fig.add_subplot(2,7, cnt+1)\n",
        "  img = data[0]\n",
        "  data = img.reshape(1,36,60,1)\n",
        "  model_out = model.predict([data])\n",
        "\n",
        "  if np.argmax(model_out) == 0:\n",
        "    str_label='Turn'\n",
        "  else:\n",
        "      str_label = 'Not a Turn'\n",
        "\n",
        "  y.imshow(img, cmap='gray')\n",
        "  plt.title(str_label)\n"
      ],
      "execution_count": 37,
      "outputs": [
        {
          "output_type": "display_data",
          "data": {
            "image/png": "[encoded data removed]",
            "text/plain": [
              "<Figure size 1008x1008 with 14 Axes>"
            ]
          },
          "metadata": {
            "tags": []
          }
        }
      ]
    },
    {
      "cell_type": "code",
      "metadata": {
        "id": "DIQv66iLTnUy",
        "colab_type": "code",
        "colab": {}
      },
      "source": [
        ""
      ],
      "execution_count": 0,
      "outputs": []
    }
  ]
}